{
 "cells": [
  {
   "cell_type": "code",
   "execution_count": 1,
   "id": "89f1ab17",
   "metadata": {},
   "outputs": [],
   "source": [
    "import numpy as np\n"
   ]
  },
  {
   "cell_type": "code",
   "execution_count": 2,
   "id": "5cfd1abd",
   "metadata": {},
   "outputs": [
    {
     "name": "stdout",
     "output_type": "stream",
     "text": [
      "[1 2 3 4 5]\n",
      "Honesto\n"
     ]
    }
   ],
   "source": [
    "arr1 = np.array([1,2,3,4,5])\n",
    "print(arr1)\n",
    "print('Honesto')\n"
   ]
  },
  {
   "cell_type": "code",
   "execution_count": 3,
   "id": "b9b87d4e",
   "metadata": {},
   "outputs": [
    {
     "name": "stdout",
     "output_type": "stream",
     "text": [
      "[[1, 2, 3, 4, 5], [6, 7, 8, 9, 0]] <class 'list'>\n",
      "[[1 2 3 4 5]\n",
      " [6 7 8 9 0]] <class 'numpy.ndarray'>\n"
     ]
    }
   ],
   "source": [
    "arr1 = [[1,2,3,4,5], [6,7,8,9,0]]\n",
    "print(arr1, type(arr1))\n",
    "arr2 = np.array([[1,2,3,4,5], [6,7,8,9,0]])\n",
    "print(arr2, type(arr2))"
   ]
  },
  {
   "cell_type": "markdown",
   "id": "c694e25f",
   "metadata": {},
   "source": [
    "# Array Attributes\n",
    "## Array Attributes\n",
    "### Array Attributes\n",
    "#### Array Attributes\n",
    "##### Array Attributes\n",
    "###### Array Attributes\n",
    "- These are array attributes"
   ]
  },
  {
   "cell_type": "markdown",
   "id": "7d1bc7df",
   "metadata": {},
   "source": [
    "### ndim"
   ]
  },
  {
   "cell_type": "code",
   "execution_count": 4,
   "id": "a264db0b",
   "metadata": {},
   "outputs": [
    {
     "name": "stdout",
     "output_type": "stream",
     "text": [
      "1\n",
      "2\n"
     ]
    }
   ],
   "source": [
    "# Dimensions of an array\n",
    "arr1 = np.array([1,2,3,4,5])\n",
    "print(arr1.ndim)    # 1\n",
    "arr2 = np.array([[1,2,3,4,5], [6,7,8,9,0]])\n",
    "print(arr2.ndim)    # 2"
   ]
  },
  {
   "cell_type": "markdown",
   "id": "9625b0b0",
   "metadata": {},
   "source": [
    "### shape: (row, columns)"
   ]
  },
  {
   "cell_type": "code",
   "execution_count": 5,
   "id": "ae0e4d87",
   "metadata": {},
   "outputs": [
    {
     "name": "stdout",
     "output_type": "stream",
     "text": [
      "(5,)\n",
      "(2, 5)\n"
     ]
    }
   ],
   "source": [
    "# If it's a 1D array, it returns number of items\n",
    "print(arr1.shape)\n",
    "# 2D array: returns number of row and columns\n",
    "print(arr2.shape)\n"
   ]
  },
  {
   "cell_type": "markdown",
   "id": "22531418",
   "metadata": {},
   "source": [
    "### size\n",
    "- Total number of elements in the array"
   ]
  },
  {
   "cell_type": "code",
   "execution_count": 6,
   "id": "3a4e30f7",
   "metadata": {},
   "outputs": [
    {
     "name": "stdout",
     "output_type": "stream",
     "text": [
      "5\n",
      "10\n"
     ]
    }
   ],
   "source": [
    "print(arr1.size)\n",
    "print(arr2.size)"
   ]
  },
  {
   "cell_type": "markdown",
   "id": "2ef6c275",
   "metadata": {},
   "source": [
    "### dtype\n",
    "- returns the Data type of the array\n",
    "- arrays can hold the value sof a single data type only - Homogenuous"
   ]
  },
  {
   "cell_type": "code",
   "execution_count": 7,
   "id": "1fb8054b",
   "metadata": {},
   "outputs": [
    {
     "data": {
      "text/plain": [
       "dtype('int64')"
      ]
     },
     "execution_count": 7,
     "metadata": {},
     "output_type": "execute_result"
    }
   ],
   "source": [
    "arr1.dtype"
   ]
  },
  {
   "cell_type": "markdown",
   "id": "4ecc9a51",
   "metadata": {},
   "source": [
    "### itemsize\n",
    "- size of each element of the array in Bytes"
   ]
  },
  {
   "cell_type": "code",
   "execution_count": 8,
   "id": "ab653275",
   "metadata": {},
   "outputs": [
    {
     "name": "stdout",
     "output_type": "stream",
     "text": [
      "8\n",
      "8\n",
      "float64\n",
      "8\n"
     ]
    }
   ],
   "source": [
    "print(arr1.itemsize)\n",
    "print(arr2.itemsize)\n",
    "arr3 = np.array([1.5, 2.3])\n",
    "print(arr3.dtype)\n",
    "print(arr3.itemsize)\n"
   ]
  },
  {
   "cell_type": "markdown",
   "id": "7e6ffc3e",
   "metadata": {},
   "source": [
    "## Data Type Conversion\n",
    "- Although Numpy automatically infers the data type of array elements but we can specify overwriting the infered data type\n",
    "\n",
    "\n",
    "### Method 1: dtype parameter"
   ]
  },
  {
   "cell_type": "code",
   "execution_count": 9,
   "id": "b50719d3",
   "metadata": {},
   "outputs": [
    {
     "name": "stdout",
     "output_type": "stream",
     "text": [
      "float16\n"
     ]
    }
   ],
   "source": [
    "arr = np.array([1.2, 2.2, 3.4, 5.6], dtype=np.float16)\n",
    "print(arr.dtype)"
   ]
  },
  {
   "cell_type": "markdown",
   "id": "64324620",
   "metadata": {},
   "source": [
    "### Method 2: astype()"
   ]
  },
  {
   "cell_type": "code",
   "execution_count": 10,
   "id": "5ad53380",
   "metadata": {},
   "outputs": [
    {
     "name": "stdout",
     "output_type": "stream",
     "text": [
      "[1 2 3 5]\n",
      "[1. 2. 3. 5.]\n"
     ]
    }
   ],
   "source": [
    "arr = np.array([1.2, 2.2, 3.4, 5.6])\n",
    "arr = arr.astype(int)\n",
    "print(arr)\n",
    "arr = arr.astype(float)\n",
    "print(arr)"
   ]
  },
  {
   "cell_type": "markdown",
   "id": "6cd386e3",
   "metadata": {},
   "source": [
    "### returns a list of variables and functions in a module/library/package"
   ]
  },
  {
   "cell_type": "code",
   "execution_count": 11,
   "id": "7891f177",
   "metadata": {},
   "outputs": [
    {
     "data": {
      "text/plain": [
       "['ALLOW_THREADS',\n",
       " 'BUFSIZE',\n",
       " 'CLIP',\n",
       " 'DataSource',\n",
       " 'ERR_CALL',\n",
       " 'ERR_DEFAULT',\n",
       " 'ERR_IGNORE',\n",
       " 'ERR_LOG',\n",
       " 'ERR_PRINT',\n",
       " 'ERR_RAISE',\n",
       " 'ERR_WARN',\n",
       " 'FLOATING_POINT_SUPPORT',\n",
       " 'FPE_DIVIDEBYZERO',\n",
       " 'FPE_INVALID',\n",
       " 'FPE_OVERFLOW',\n",
       " 'FPE_UNDERFLOW',\n",
       " 'False_',\n",
       " 'Inf',\n",
       " 'Infinity',\n",
       " 'MAXDIMS',\n",
       " 'MAY_SHARE_BOUNDS',\n",
       " 'MAY_SHARE_EXACT',\n",
       " 'NAN',\n",
       " 'NINF',\n",
       " 'NZERO',\n",
       " 'NaN',\n",
       " 'PINF',\n",
       " 'PZERO',\n",
       " 'RAISE',\n",
       " 'RankWarning',\n",
       " 'SHIFT_DIVIDEBYZERO',\n",
       " 'SHIFT_INVALID',\n",
       " 'SHIFT_OVERFLOW',\n",
       " 'SHIFT_UNDERFLOW',\n",
       " 'ScalarType',\n",
       " 'True_',\n",
       " 'UFUNC_BUFSIZE_DEFAULT',\n",
       " 'UFUNC_PYVALS_NAME',\n",
       " 'WRAP',\n",
       " '_CopyMode',\n",
       " '_NoValue',\n",
       " '_UFUNC_API',\n",
       " '__NUMPY_SETUP__',\n",
       " '__all__',\n",
       " '__builtins__',\n",
       " '__cached__',\n",
       " '__config__',\n",
       " '__deprecated_attrs__',\n",
       " '__dir__',\n",
       " '__doc__',\n",
       " '__expired_functions__',\n",
       " '__file__',\n",
       " '__former_attrs__',\n",
       " '__future_scalars__',\n",
       " '__getattr__',\n",
       " '__loader__',\n",
       " '__name__',\n",
       " '__package__',\n",
       " '__path__',\n",
       " '__spec__',\n",
       " '__version__',\n",
       " '_add_newdoc_ufunc',\n",
       " '_builtins',\n",
       " '_distributor_init',\n",
       " '_financial_names',\n",
       " '_get_promotion_state',\n",
       " '_globals',\n",
       " '_int_extended_msg',\n",
       " '_mat',\n",
       " '_no_nep50_warning',\n",
       " '_pyinstaller_hooks_dir',\n",
       " '_pytesttester',\n",
       " '_set_promotion_state',\n",
       " '_specific_msg',\n",
       " '_typing',\n",
       " '_using_numpy2_behavior',\n",
       " '_utils',\n",
       " 'abs',\n",
       " 'absolute',\n",
       " 'add',\n",
       " 'add_docstring',\n",
       " 'add_newdoc',\n",
       " 'add_newdoc_ufunc',\n",
       " 'all',\n",
       " 'allclose',\n",
       " 'alltrue',\n",
       " 'amax',\n",
       " 'amin',\n",
       " 'angle',\n",
       " 'any',\n",
       " 'append',\n",
       " 'apply_along_axis',\n",
       " 'apply_over_axes',\n",
       " 'arange',\n",
       " 'arccos',\n",
       " 'arccosh',\n",
       " 'arcsin',\n",
       " 'arcsinh',\n",
       " 'arctan',\n",
       " 'arctan2',\n",
       " 'arctanh',\n",
       " 'argmax',\n",
       " 'argmin',\n",
       " 'argpartition',\n",
       " 'argsort',\n",
       " 'argwhere',\n",
       " 'around',\n",
       " 'array',\n",
       " 'array2string',\n",
       " 'array_equal',\n",
       " 'array_equiv',\n",
       " 'array_repr',\n",
       " 'array_split',\n",
       " 'array_str',\n",
       " 'asanyarray',\n",
       " 'asarray',\n",
       " 'asarray_chkfinite',\n",
       " 'ascontiguousarray',\n",
       " 'asfarray',\n",
       " 'asfortranarray',\n",
       " 'asmatrix',\n",
       " 'atleast_1d',\n",
       " 'atleast_2d',\n",
       " 'atleast_3d',\n",
       " 'average',\n",
       " 'bartlett',\n",
       " 'base_repr',\n",
       " 'binary_repr',\n",
       " 'bincount',\n",
       " 'bitwise_and',\n",
       " 'bitwise_not',\n",
       " 'bitwise_or',\n",
       " 'bitwise_xor',\n",
       " 'blackman',\n",
       " 'block',\n",
       " 'bmat',\n",
       " 'bool_',\n",
       " 'broadcast',\n",
       " 'broadcast_arrays',\n",
       " 'broadcast_shapes',\n",
       " 'broadcast_to',\n",
       " 'busday_count',\n",
       " 'busday_offset',\n",
       " 'busdaycalendar',\n",
       " 'byte',\n",
       " 'byte_bounds',\n",
       " 'bytes_',\n",
       " 'c_',\n",
       " 'can_cast',\n",
       " 'cast',\n",
       " 'cbrt',\n",
       " 'cdouble',\n",
       " 'ceil',\n",
       " 'cfloat',\n",
       " 'char',\n",
       " 'character',\n",
       " 'chararray',\n",
       " 'choose',\n",
       " 'clip',\n",
       " 'clongdouble',\n",
       " 'clongfloat',\n",
       " 'column_stack',\n",
       " 'common_type',\n",
       " 'compare_chararrays',\n",
       " 'compat',\n",
       " 'complex128',\n",
       " 'complex64',\n",
       " 'complex_',\n",
       " 'complexfloating',\n",
       " 'compress',\n",
       " 'concatenate',\n",
       " 'conj',\n",
       " 'conjugate',\n",
       " 'convolve',\n",
       " 'copy',\n",
       " 'copysign',\n",
       " 'copyto',\n",
       " 'corrcoef',\n",
       " 'correlate',\n",
       " 'cos',\n",
       " 'cosh',\n",
       " 'count_nonzero',\n",
       " 'cov',\n",
       " 'cross',\n",
       " 'csingle',\n",
       " 'ctypeslib',\n",
       " 'cumprod',\n",
       " 'cumproduct',\n",
       " 'cumsum',\n",
       " 'datetime64',\n",
       " 'datetime_as_string',\n",
       " 'datetime_data',\n",
       " 'deg2rad',\n",
       " 'degrees',\n",
       " 'delete',\n",
       " 'deprecate',\n",
       " 'deprecate_with_doc',\n",
       " 'diag',\n",
       " 'diag_indices',\n",
       " 'diag_indices_from',\n",
       " 'diagflat',\n",
       " 'diagonal',\n",
       " 'diff',\n",
       " 'digitize',\n",
       " 'disp',\n",
       " 'divide',\n",
       " 'divmod',\n",
       " 'dot',\n",
       " 'double',\n",
       " 'dsplit',\n",
       " 'dstack',\n",
       " 'dtype',\n",
       " 'dtypes',\n",
       " 'e',\n",
       " 'ediff1d',\n",
       " 'einsum',\n",
       " 'einsum_path',\n",
       " 'emath',\n",
       " 'empty',\n",
       " 'empty_like',\n",
       " 'equal',\n",
       " 'errstate',\n",
       " 'euler_gamma',\n",
       " 'exceptions',\n",
       " 'exp',\n",
       " 'exp2',\n",
       " 'expand_dims',\n",
       " 'expm1',\n",
       " 'extract',\n",
       " 'eye',\n",
       " 'fabs',\n",
       " 'fastCopyAndTranspose',\n",
       " 'fft',\n",
       " 'fill_diagonal',\n",
       " 'find_common_type',\n",
       " 'finfo',\n",
       " 'fix',\n",
       " 'flatiter',\n",
       " 'flatnonzero',\n",
       " 'flexible',\n",
       " 'flip',\n",
       " 'fliplr',\n",
       " 'flipud',\n",
       " 'float16',\n",
       " 'float32',\n",
       " 'float64',\n",
       " 'float_',\n",
       " 'float_power',\n",
       " 'floating',\n",
       " 'floor',\n",
       " 'floor_divide',\n",
       " 'fmax',\n",
       " 'fmin',\n",
       " 'fmod',\n",
       " 'format_float_positional',\n",
       " 'format_float_scientific',\n",
       " 'format_parser',\n",
       " 'frexp',\n",
       " 'from_dlpack',\n",
       " 'frombuffer',\n",
       " 'fromfile',\n",
       " 'fromfunction',\n",
       " 'fromiter',\n",
       " 'frompyfunc',\n",
       " 'fromregex',\n",
       " 'fromstring',\n",
       " 'full',\n",
       " 'full_like',\n",
       " 'gcd',\n",
       " 'generic',\n",
       " 'genfromtxt',\n",
       " 'geomspace',\n",
       " 'get_array_wrap',\n",
       " 'get_include',\n",
       " 'get_printoptions',\n",
       " 'getbufsize',\n",
       " 'geterr',\n",
       " 'geterrcall',\n",
       " 'geterrobj',\n",
       " 'gradient',\n",
       " 'greater',\n",
       " 'greater_equal',\n",
       " 'half',\n",
       " 'hamming',\n",
       " 'hanning',\n",
       " 'heaviside',\n",
       " 'histogram',\n",
       " 'histogram2d',\n",
       " 'histogram_bin_edges',\n",
       " 'histogramdd',\n",
       " 'hsplit',\n",
       " 'hstack',\n",
       " 'hypot',\n",
       " 'i0',\n",
       " 'identity',\n",
       " 'iinfo',\n",
       " 'imag',\n",
       " 'in1d',\n",
       " 'index_exp',\n",
       " 'indices',\n",
       " 'inexact',\n",
       " 'inf',\n",
       " 'info',\n",
       " 'infty',\n",
       " 'inner',\n",
       " 'insert',\n",
       " 'int16',\n",
       " 'int32',\n",
       " 'int64',\n",
       " 'int8',\n",
       " 'int_',\n",
       " 'intc',\n",
       " 'integer',\n",
       " 'interp',\n",
       " 'intersect1d',\n",
       " 'intp',\n",
       " 'invert',\n",
       " 'is_busday',\n",
       " 'isclose',\n",
       " 'iscomplex',\n",
       " 'iscomplexobj',\n",
       " 'isfinite',\n",
       " 'isfortran',\n",
       " 'isin',\n",
       " 'isinf',\n",
       " 'isnan',\n",
       " 'isnat',\n",
       " 'isneginf',\n",
       " 'isposinf',\n",
       " 'isreal',\n",
       " 'isrealobj',\n",
       " 'isscalar',\n",
       " 'issctype',\n",
       " 'issubclass_',\n",
       " 'issubdtype',\n",
       " 'issubsctype',\n",
       " 'iterable',\n",
       " 'ix_',\n",
       " 'kaiser',\n",
       " 'kron',\n",
       " 'lcm',\n",
       " 'ldexp',\n",
       " 'left_shift',\n",
       " 'less',\n",
       " 'less_equal',\n",
       " 'lexsort',\n",
       " 'lib',\n",
       " 'linalg',\n",
       " 'linspace',\n",
       " 'little_endian',\n",
       " 'load',\n",
       " 'loadtxt',\n",
       " 'log',\n",
       " 'log10',\n",
       " 'log1p',\n",
       " 'log2',\n",
       " 'logaddexp',\n",
       " 'logaddexp2',\n",
       " 'logical_and',\n",
       " 'logical_not',\n",
       " 'logical_or',\n",
       " 'logical_xor',\n",
       " 'logspace',\n",
       " 'longcomplex',\n",
       " 'longdouble',\n",
       " 'longfloat',\n",
       " 'longlong',\n",
       " 'lookfor',\n",
       " 'ma',\n",
       " 'mask_indices',\n",
       " 'mat',\n",
       " 'matmul',\n",
       " 'matrix',\n",
       " 'max',\n",
       " 'maximum',\n",
       " 'maximum_sctype',\n",
       " 'may_share_memory',\n",
       " 'mean',\n",
       " 'median',\n",
       " 'memmap',\n",
       " 'meshgrid',\n",
       " 'mgrid',\n",
       " 'min',\n",
       " 'min_scalar_type',\n",
       " 'minimum',\n",
       " 'mintypecode',\n",
       " 'mod',\n",
       " 'modf',\n",
       " 'moveaxis',\n",
       " 'msort',\n",
       " 'multiply',\n",
       " 'nan',\n",
       " 'nan_to_num',\n",
       " 'nanargmax',\n",
       " 'nanargmin',\n",
       " 'nancumprod',\n",
       " 'nancumsum',\n",
       " 'nanmax',\n",
       " 'nanmean',\n",
       " 'nanmedian',\n",
       " 'nanmin',\n",
       " 'nanpercentile',\n",
       " 'nanprod',\n",
       " 'nanquantile',\n",
       " 'nanstd',\n",
       " 'nansum',\n",
       " 'nanvar',\n",
       " 'nbytes',\n",
       " 'ndarray',\n",
       " 'ndenumerate',\n",
       " 'ndim',\n",
       " 'ndindex',\n",
       " 'nditer',\n",
       " 'negative',\n",
       " 'nested_iters',\n",
       " 'newaxis',\n",
       " 'nextafter',\n",
       " 'nonzero',\n",
       " 'not_equal',\n",
       " 'numarray',\n",
       " 'number',\n",
       " 'obj2sctype',\n",
       " 'object_',\n",
       " 'ogrid',\n",
       " 'oldnumeric',\n",
       " 'ones',\n",
       " 'ones_like',\n",
       " 'outer',\n",
       " 'packbits',\n",
       " 'pad',\n",
       " 'partition',\n",
       " 'percentile',\n",
       " 'pi',\n",
       " 'piecewise',\n",
       " 'place',\n",
       " 'poly',\n",
       " 'poly1d',\n",
       " 'polyadd',\n",
       " 'polyder',\n",
       " 'polydiv',\n",
       " 'polyfit',\n",
       " 'polyint',\n",
       " 'polymul',\n",
       " 'polynomial',\n",
       " 'polysub',\n",
       " 'polyval',\n",
       " 'positive',\n",
       " 'power',\n",
       " 'printoptions',\n",
       " 'prod',\n",
       " 'product',\n",
       " 'promote_types',\n",
       " 'ptp',\n",
       " 'put',\n",
       " 'put_along_axis',\n",
       " 'putmask',\n",
       " 'quantile',\n",
       " 'r_',\n",
       " 'rad2deg',\n",
       " 'radians',\n",
       " 'random',\n",
       " 'ravel',\n",
       " 'ravel_multi_index',\n",
       " 'real',\n",
       " 'real_if_close',\n",
       " 'rec',\n",
       " 'recarray',\n",
       " 'recfromcsv',\n",
       " 'recfromtxt',\n",
       " 'reciprocal',\n",
       " 'record',\n",
       " 'remainder',\n",
       " 'repeat',\n",
       " 'require',\n",
       " 'reshape',\n",
       " 'resize',\n",
       " 'result_type',\n",
       " 'right_shift',\n",
       " 'rint',\n",
       " 'roll',\n",
       " 'rollaxis',\n",
       " 'roots',\n",
       " 'rot90',\n",
       " 'round',\n",
       " 'round_',\n",
       " 'row_stack',\n",
       " 's_',\n",
       " 'safe_eval',\n",
       " 'save',\n",
       " 'savetxt',\n",
       " 'savez',\n",
       " 'savez_compressed',\n",
       " 'sctype2char',\n",
       " 'sctypeDict',\n",
       " 'sctypes',\n",
       " 'searchsorted',\n",
       " 'select',\n",
       " 'set_numeric_ops',\n",
       " 'set_printoptions',\n",
       " 'set_string_function',\n",
       " 'setbufsize',\n",
       " 'setdiff1d',\n",
       " 'seterr',\n",
       " 'seterrcall',\n",
       " 'seterrobj',\n",
       " 'setxor1d',\n",
       " 'shape',\n",
       " 'shares_memory',\n",
       " 'short',\n",
       " 'show_config',\n",
       " 'show_runtime',\n",
       " 'sign',\n",
       " 'signbit',\n",
       " 'signedinteger',\n",
       " 'sin',\n",
       " 'sinc',\n",
       " 'single',\n",
       " 'singlecomplex',\n",
       " 'sinh',\n",
       " 'size',\n",
       " 'sometrue',\n",
       " 'sort',\n",
       " 'sort_complex',\n",
       " 'source',\n",
       " 'spacing',\n",
       " 'split',\n",
       " 'sqrt',\n",
       " 'square',\n",
       " 'squeeze',\n",
       " 'stack',\n",
       " 'std',\n",
       " 'str_',\n",
       " 'string_',\n",
       " 'subtract',\n",
       " 'sum',\n",
       " 'swapaxes',\n",
       " 'take',\n",
       " 'take_along_axis',\n",
       " 'tan',\n",
       " 'tanh',\n",
       " 'tensordot',\n",
       " 'test',\n",
       " 'testing',\n",
       " 'tile',\n",
       " 'timedelta64',\n",
       " 'trace',\n",
       " 'tracemalloc_domain',\n",
       " 'transpose',\n",
       " 'trapz',\n",
       " 'tri',\n",
       " 'tril',\n",
       " 'tril_indices',\n",
       " 'tril_indices_from',\n",
       " 'trim_zeros',\n",
       " 'triu',\n",
       " 'triu_indices',\n",
       " 'triu_indices_from',\n",
       " 'true_divide',\n",
       " 'trunc',\n",
       " 'typecodes',\n",
       " 'typename',\n",
       " 'ubyte',\n",
       " 'ufunc',\n",
       " 'uint',\n",
       " 'uint16',\n",
       " 'uint32',\n",
       " 'uint64',\n",
       " 'uint8',\n",
       " 'uintc',\n",
       " 'uintp',\n",
       " 'ulonglong',\n",
       " 'unicode_',\n",
       " 'union1d',\n",
       " 'unique',\n",
       " 'unpackbits',\n",
       " 'unravel_index',\n",
       " 'unsignedinteger',\n",
       " 'unwrap',\n",
       " 'ushort',\n",
       " 'vander',\n",
       " 'var',\n",
       " 'vdot',\n",
       " 'vectorize',\n",
       " 'version',\n",
       " 'void',\n",
       " 'vsplit',\n",
       " 'vstack',\n",
       " 'where',\n",
       " 'who',\n",
       " 'zeros',\n",
       " 'zeros_like']"
      ]
     },
     "execution_count": 11,
     "metadata": {},
     "output_type": "execute_result"
    }
   ],
   "source": [
    "dir(np)"
   ]
  },
  {
   "cell_type": "code",
   "execution_count": 12,
   "id": "91d01a05",
   "metadata": {},
   "outputs": [
    {
     "data": {
      "text/plain": [
       "['__doc__',\n",
       " '__file__',\n",
       " '__loader__',\n",
       " '__name__',\n",
       " '__package__',\n",
       " '__spec__',\n",
       " 'acos',\n",
       " 'acosh',\n",
       " 'asin',\n",
       " 'asinh',\n",
       " 'atan',\n",
       " 'atan2',\n",
       " 'atanh',\n",
       " 'cbrt',\n",
       " 'ceil',\n",
       " 'comb',\n",
       " 'copysign',\n",
       " 'cos',\n",
       " 'cosh',\n",
       " 'degrees',\n",
       " 'dist',\n",
       " 'e',\n",
       " 'erf',\n",
       " 'erfc',\n",
       " 'exp',\n",
       " 'exp2',\n",
       " 'expm1',\n",
       " 'fabs',\n",
       " 'factorial',\n",
       " 'floor',\n",
       " 'fmod',\n",
       " 'frexp',\n",
       " 'fsum',\n",
       " 'gamma',\n",
       " 'gcd',\n",
       " 'hypot',\n",
       " 'inf',\n",
       " 'isclose',\n",
       " 'isfinite',\n",
       " 'isinf',\n",
       " 'isnan',\n",
       " 'isqrt',\n",
       " 'lcm',\n",
       " 'ldexp',\n",
       " 'lgamma',\n",
       " 'log',\n",
       " 'log10',\n",
       " 'log1p',\n",
       " 'log2',\n",
       " 'modf',\n",
       " 'nan',\n",
       " 'nextafter',\n",
       " 'perm',\n",
       " 'pi',\n",
       " 'pow',\n",
       " 'prod',\n",
       " 'radians',\n",
       " 'remainder',\n",
       " 'sin',\n",
       " 'sinh',\n",
       " 'sqrt',\n",
       " 'tan',\n",
       " 'tanh',\n",
       " 'tau',\n",
       " 'trunc',\n",
       " 'ulp']"
      ]
     },
     "execution_count": 12,
     "metadata": {},
     "output_type": "execute_result"
    }
   ],
   "source": [
    "import math\n",
    "dir(math)"
   ]
  },
  {
   "cell_type": "markdown",
   "id": "5b5695a0",
   "metadata": {},
   "source": [
    "#### Check Numpy Version"
   ]
  },
  {
   "cell_type": "code",
   "execution_count": 13,
   "id": "d772177e",
   "metadata": {},
   "outputs": [
    {
     "data": {
      "text/plain": [
       "'1.26.4'"
      ]
     },
     "execution_count": 13,
     "metadata": {},
     "output_type": "execute_result"
    }
   ],
   "source": [
    "np.__version__"
   ]
  },
  {
   "cell_type": "code",
   "execution_count": null,
   "id": "9e845b02",
   "metadata": {},
   "outputs": [],
   "source": []
  },
  {
   "cell_type": "markdown",
   "id": "e0d25557",
   "metadata": {},
   "source": [
    "## Creating and Initializing Arrays"
   ]
  },
  {
   "cell_type": "markdown",
   "id": "3e4984a8",
   "metadata": {},
   "source": [
    "### Creating arrays with built-in functions\n",
    "#### Zeros | Ones | Full | Empty"
   ]
  },
  {
   "cell_type": "code",
   "execution_count": 3,
   "id": "1b1f83ff",
   "metadata": {},
   "outputs": [
    {
     "ename": "NameError",
     "evalue": "name 'np' is not defined",
     "output_type": "error",
     "traceback": [
      "\u001b[31m---------------------------------------------------------------------------\u001b[39m",
      "\u001b[31mNameError\u001b[39m                                 Traceback (most recent call last)",
      "\u001b[36mCell\u001b[39m\u001b[36m \u001b[39m\u001b[32mIn[3]\u001b[39m\u001b[32m, line 1\u001b[39m\n\u001b[32m----> \u001b[39m\u001b[32m1\u001b[39m zeros_arr = \u001b[43mnp\u001b[49m.zeros((\u001b[32m3\u001b[39m,\u001b[32m4\u001b[39m))\n\u001b[32m      2\u001b[39m \u001b[38;5;28mprint\u001b[39m(\u001b[33m\"\u001b[39m\u001b[33mZeros:\u001b[39m\u001b[38;5;130;01m\\n\u001b[39;00m\u001b[33m\"\u001b[39m, zeros_arr)\n\u001b[32m      5\u001b[39m ones_arr = np.ones((\u001b[32m3\u001b[39m,\u001b[32m4\u001b[39m))\n",
      "\u001b[31mNameError\u001b[39m: name 'np' is not defined"
     ]
    }
   ],
   "source": [
    "zeros_arr = np.zeros((3,4))\n",
    "print(\"Zeros:\\n\", zeros_arr)\n",
    "\n",
    "\n",
    "ones_arr = np.ones((3,4))\n",
    "print(\"Ones:\\n\", ones_arr)\n",
    "\n",
    "\n",
    "full_arr = np.full((3,4), 5)\n",
    "print(\"full:\\n\", full_arr)\n",
    "\n",
    "\n",
    "empty_arr = np.empty((3,4))\n",
    "print(\"empty:\\n\", empty_arr)"
   ]
  },
  {
   "cell_type": "markdown",
   "id": "7b008098",
   "metadata": {},
   "source": [
    "## Numerrical Sequences"
   ]
  },
  {
   "cell_type": "markdown",
   "id": "f871a63a",
   "metadata": {},
   "source": [
    "### arange(start, end, step)"
   ]
  },
  {
   "cell_type": "code",
   "execution_count": 15,
   "id": "1514dcbf",
   "metadata": {},
   "outputs": [
    {
     "data": {
      "text/plain": [
       "array([0, 2, 4, 6, 8])"
      ]
     },
     "execution_count": 15,
     "metadata": {},
     "output_type": "execute_result"
    }
   ],
   "source": [
    "np.arange(0, 10, 2)"
   ]
  },
  {
   "cell_type": "markdown",
   "id": "cfab6708",
   "metadata": {},
   "source": [
    "### linspace()"
   ]
  },
  {
   "cell_type": "code",
   "execution_count": 16,
   "id": "5ec4a259",
   "metadata": {},
   "outputs": [
    {
     "data": {
      "text/plain": [
       "array([0.  , 0.25, 0.5 , 0.75, 1.  ])"
      ]
     },
     "execution_count": 16,
     "metadata": {},
     "output_type": "execute_result"
    }
   ],
   "source": [
    "np.linspace(0, 1, 5)"
   ]
  },
  {
   "cell_type": "markdown",
   "id": "1de7ef6a",
   "metadata": {},
   "source": [
    "### Identical Matrix"
   ]
  },
  {
   "cell_type": "code",
   "execution_count": 17,
   "id": "bf7cb2d6",
   "metadata": {},
   "outputs": [
    {
     "data": {
      "text/plain": [
       "array([[1., 0., 0., 0.],\n",
       "       [0., 1., 0., 0.],\n",
       "       [0., 0., 1., 0.],\n",
       "       [0., 0., 0., 1.]])"
      ]
     },
     "execution_count": 17,
     "metadata": {},
     "output_type": "execute_result"
    }
   ],
   "source": [
    "np.eye(4)"
   ]
  },
  {
   "cell_type": "code",
   "execution_count": 18,
   "id": "548a2ce8",
   "metadata": {},
   "outputs": [
    {
     "data": {
      "text/plain": [
       "array([[5., 0., 0., 0.],\n",
       "       [0., 5., 0., 0.],\n",
       "       [0., 0., 5., 0.],\n",
       "       [0., 0., 0., 5.]])"
      ]
     },
     "execution_count": 18,
     "metadata": {},
     "output_type": "execute_result"
    }
   ],
   "source": [
    "np.eye(4) * 5"
   ]
  },
  {
   "cell_type": "code",
   "execution_count": 19,
   "id": "e803a021",
   "metadata": {},
   "outputs": [
    {
     "name": "stdout",
     "output_type": "stream",
     "text": [
      "[[1, 0, 0, 0], [0, 1, 0, 0], [0, 0, 1, 0], [0, 0, 0, 1], [1, 0, 0, 0], [0, 1, 0, 0], [0, 0, 1, 0], [0, 0, 0, 1], [1, 0, 0, 0], [0, 1, 0, 0], [0, 0, 1, 0], [0, 0, 0, 1]]\n"
     ]
    }
   ],
   "source": [
    "arr = [[1, 0, 0, 0],\n",
    "       [0, 1, 0, 0],\n",
    "       [0, 0, 1, 0],\n",
    "       [0, 0, 0, 1]]\n",
    "\n",
    "print(arr * 3)"
   ]
  },
  {
   "cell_type": "markdown",
   "id": "92b298e7",
   "metadata": {},
   "source": [
    "## Numpy Array with arithmetic Operators"
   ]
  },
  {
   "cell_type": "code",
   "execution_count": 20,
   "id": "e388f5c3",
   "metadata": {},
   "outputs": [
    {
     "name": "stdout",
     "output_type": "stream",
     "text": [
      "Numpy Array Addition:\n",
      "[4 5 6 7 8]\n",
      "\n",
      "Numpy Array Subtraction:\n",
      "[-2 -1  0  1  2]\n",
      "\n",
      "Numpy Array Multiplication:\n",
      "[ 3  6  9 12 15]\n",
      "\n",
      "Numpy Array Divide:\n",
      "[0.33333333 0.66666667 1.         1.33333333 1.66666667]\n",
      "\n",
      "Python list Addition:\n",
      "[1, 2, 3, 4, 5, 3]\n",
      "\n",
      "Python list Multiplication:\n",
      "[1, 2, 3, 4, 5, 1, 2, 3, 4, 5, 1, 2, 3, 4, 5]\n"
     ]
    }
   ],
   "source": [
    "arr = np.array([1,2,3,4,5])\n",
    "print('Numpy Array Addition:')\n",
    "print(arr + 3)\n",
    "print('\\nNumpy Array Subtraction:')\n",
    "print(arr - 3)\n",
    "print('\\nNumpy Array Multiplication:')\n",
    "print(arr * 3)\n",
    "print('\\nNumpy Array Divide:')\n",
    "print(arr / 3)\n",
    "\n",
    "lst = [1,2,3,4,5]\n",
    "print('\\nPython list Addition:')\n",
    "print(lst + [3])\n",
    "# only a list can be added with another list - not with any integer.\n",
    "\n",
    "# print('\\nPython list Subtraction:')   # not feasible\n",
    "# print(lst - 3)\n",
    "print('\\nPython list Multiplication:')\n",
    "print(lst * 3)\n",
    "# print('\\nPython list Division:')      # not feasible\n",
    "# print(lst / 3)"
   ]
  },
  {
   "cell_type": "markdown",
   "id": "4dffe904",
   "metadata": {},
   "source": [
    "### Diagonal"
   ]
  },
  {
   "cell_type": "code",
   "execution_count": 21,
   "id": "79c6b307",
   "metadata": {},
   "outputs": [
    {
     "data": {
      "text/plain": [
       "array([[10,  0,  0,  0,  0],\n",
       "       [ 0, 20,  0,  0,  0],\n",
       "       [ 0,  0, 30,  0,  0],\n",
       "       [ 0,  0,  0, 40,  0],\n",
       "       [ 0,  0,  0,  0, 50]])"
      ]
     },
     "execution_count": 21,
     "metadata": {},
     "output_type": "execute_result"
    }
   ],
   "source": [
    "np.diag([10, 20, 30, 40,50])"
   ]
  },
  {
   "cell_type": "markdown",
   "id": "e8b29dd5",
   "metadata": {},
   "source": [
    "## Random Array"
   ]
  },
  {
   "cell_type": "markdown",
   "id": "6b927abe",
   "metadata": {},
   "source": [
    "### seting up the Seed : seed()\n",
    "- This maintains the reproducibility"
   ]
  },
  {
   "cell_type": "code",
   "execution_count": 22,
   "id": "6c503415",
   "metadata": {},
   "outputs": [],
   "source": [
    "np.random.seed(42)\n"
   ]
  },
  {
   "cell_type": "code",
   "execution_count": 23,
   "id": "e5d93ebf",
   "metadata": {},
   "outputs": [
    {
     "name": "stdout",
     "output_type": "stream",
     "text": [
      "[[0.5488135  0.71518937]\n",
      " [0.60276338 0.54488318]]\n",
      "[[0.4236548  0.64589411 0.43758721]\n",
      " [0.891773   0.96366276 0.38344152]\n",
      " [0.79172504 0.52889492 0.56804456]]\n",
      "[[ 0.48431215  0.57914048]\n",
      " [-0.18158257  1.41020463]]\n",
      "[[-0.37447169  0.27519832 -0.96075461]\n",
      " [ 0.37692697  0.03343893  0.68056724]\n",
      " [-1.56349669 -0.56669762 -0.24214951]]\n"
     ]
    }
   ],
   "source": [
    "# Creating a matrix of random numbers between 0 and 1\n",
    "np.random.seed(0)\n",
    "print(np.random.rand(2, 2))\n",
    "print(np.random.rand(3, 3))\n",
    "\n",
    "# With Normal Distribution mean = 0 and std = 1\n",
    "print(np.random.randn(2, 2))\n",
    "print(np.random.randn(3, 3))"
   ]
  },
  {
   "cell_type": "code",
   "execution_count": 24,
   "id": "13dae9ed",
   "metadata": {},
   "outputs": [
    {
     "data": {
      "text/plain": [
       "array([[52, 93, 15, 72, 61],\n",
       "       [21, 83, 87, 75, 75],\n",
       "       [88, 24,  3, 22, 53]])"
      ]
     },
     "execution_count": 24,
     "metadata": {},
     "output_type": "execute_result"
    }
   ],
   "source": [
    "# create an array of random integers\n",
    "# np.random.randint(start, end, (row, column))\n",
    "np.random.seed(42)\n",
    "np.random.randint(1, 100, (3, 5))\n"
   ]
  },
  {
   "cell_type": "markdown",
   "id": "c7d1d7dd",
   "metadata": {},
   "source": [
    "## Indexing and Slicing\n",
    "- Indexing: positioning of each element or item in a string/list/dictionary\n",
    "- Slicing: when we access multiple items at a time\n"
   ]
  },
  {
   "cell_type": "code",
   "execution_count": null,
   "id": "02fd67c9",
   "metadata": {},
   "outputs": [
    {
     "name": "stdout",
     "output_type": "stream",
     "text": [
      "[1, 2]\n",
      "6\n",
      "8\n"
     ]
    }
   ],
   "source": [
    "numbers = [1,2,3,4,5,6,7,8,9,0] \n",
    "        #  0 1 2 3 4 5 6 7 8 9\n",
    "print(numbers[:2])\n",
    "print(numbers[5])\n",
    "\n",
    "\n",
    "list2d = [[1,2,3], [4,5,6], [7,8,9]]\n",
    "# Python: 2dlist[row][column]\n",
    "print(list2d[2][1])"
   ]
  },
  {
   "cell_type": "code",
   "execution_count": 36,
   "id": "1fdfc180",
   "metadata": {},
   "outputs": [
    {
     "name": "stdout",
     "output_type": "stream",
     "text": [
      "[ 10  20  30  40  50  60  70  80  90 100]\n",
      "10\n",
      "100\n",
      "[[1 2 3]\n",
      " [4 5 6]\n",
      " [7 8 9]]\n",
      "8\n"
     ]
    }
   ],
   "source": [
    "arr = np.array(range(10, 101, 10))\n",
    "print(arr)\n",
    "print(arr[0])\n",
    "print(arr[-1])\n",
    "\n",
    "\n",
    "arr2d = np.array([[1,2,3], [4,5,6], [7,8,9]])\n",
    "print(arr2d)\n",
    "print(arr2d[2, 1])"
   ]
  },
  {
   "cell_type": "markdown",
   "id": "add0fbff",
   "metadata": {},
   "source": [
    "#### Slicing\n",
    "- Syntax: array[start: end: step]"
   ]
  },
  {
   "cell_type": "code",
   "execution_count": 41,
   "id": "f5dc740d",
   "metadata": {},
   "outputs": [
    {
     "name": "stdout",
     "output_type": "stream",
     "text": [
      "[20 30 40]\n",
      "[10 20 30]\n",
      "[10 30 50 70 90]\n"
     ]
    }
   ],
   "source": [
    "print(arr[1:4])\n",
    "print(arr[:3])\n",
    "print(arr[::2])   # [10, 30, 50, 70, 90]"
   ]
  },
  {
   "cell_type": "markdown",
   "id": "09124a5c",
   "metadata": {},
   "source": [
    "### Indexing\n",
    "- arr2d[row, column]\n",
    "\n",
    "### Slicing\n",
    "- arr2d[[start: end: step], [start:end:step]]"
   ]
  },
  {
   "cell_type": "code",
   "execution_count": 52,
   "id": "12df4341",
   "metadata": {},
   "outputs": [
    {
     "name": "stdout",
     "output_type": "stream",
     "text": [
      "[[1 2 3]\n",
      " [4 5 6]\n",
      " [7 8 9]]\n",
      "[[1 2]\n",
      " [4 5]]\n",
      "[[2 3]\n",
      " [5 6]]\n",
      "[[5 6]\n",
      " [8 9]]\n"
     ]
    }
   ],
   "source": [
    "print(arr2d)\n",
    "print(arr2d[0:2, 0:2])\n",
    "# [[1,2],\n",
    "#  [4,5]]\n",
    "\n",
    "\n",
    "print(arr2d[0:2, 1:3])\n",
    "# [[2 3]\n",
    "#  [5 6]]\n",
    "\n",
    "\n",
    "\n",
    "print(arr2d[1:3, 1:3])\n",
    "# [[5,6], \n",
    "#  [8,9]]"
   ]
  },
  {
   "cell_type": "code",
   "execution_count": null,
   "id": "9d61e683",
   "metadata": {},
   "outputs": [
    {
     "name": "stdout",
     "output_type": "stream",
     "text": [
      "[[202 303]\n",
      " [200 300]\n",
      " [222 333]]\n",
      "[[ 50]\n",
      " [505]\n",
      " [500]\n",
      " [555]\n",
      " [151]]\n",
      "[[ 10  20  30  40  50]\n",
      " [101 202 303 404 505]\n",
      " [100 200 300 400 500]\n",
      " [111 222 333 444 555]]\n",
      "[111 121 131 141 151]\n"
     ]
    }
   ],
   "source": [
    "arr2 = np.array([\n",
    "    [10, 20, 30, 40, 50],\n",
    "    [101, 202, 303, 404, 505],\n",
    "    [100, 200, 300, 400, 500],\n",
    "    [111, 222, 333, 444, 555],\n",
    "    [111, 121, 131, 141, 151]\n",
    "    ])\n",
    "\n",
    "print(arr2[1:4, 1:3])\n",
    "'''\n",
    "[[202 303]\n",
    " [200 300]\n",
    " [222 333]]\n",
    "'''\n",
    "\n",
    "# get all the records from last column\n",
    "print(arr2[:, 4:])\n",
    "\n",
    "\n",
    "# to get all the rows except the last row\n",
    "print(arr2[:-1])\n",
    "\n",
    "\n",
    "# to get the last row\n",
    "print(arr2[-1])"
   ]
  },
  {
   "cell_type": "markdown",
   "id": "e8faa1fc",
   "metadata": {},
   "source": [
    "## Boolean Indexing\n",
    "- selects the elements that satisfies a condition"
   ]
  },
  {
   "cell_type": "code",
   "execution_count": null,
   "id": "0e67dc25",
   "metadata": {},
   "outputs": [
    {
     "name": "stdout",
     "output_type": "stream",
     "text": [
      "[ 1  3  5  7  9 11 13 15 17 19]\n",
      "[False False False False False  True  True  True  True  True]\n",
      "Filtered values:  [11 13 15 17 19]\n",
      "[ 1  2  3  4  5  6  7  8  9 10 11 12 13 14 15 16 17 18 19]\n"
     ]
    }
   ],
   "source": [
    "arr = np.arange(1, 20, 2)\n",
    "print(arr)\n",
    "mask = arr > 10\n",
    "print(mask)\n",
    "print(\"Filtered values: \", arr[mask])\n"
   ]
  },
  {
   "cell_type": "code",
   "execution_count": 5,
   "id": "25e0864e",
   "metadata": {},
   "outputs": [
    {
     "ename": "AttributeError",
     "evalue": "module 'numpy' has no attribute 'arange'",
     "output_type": "error",
     "traceback": [
      "\u001b[31m---------------------------------------------------------------------------\u001b[39m",
      "\u001b[31mAttributeError\u001b[39m                            Traceback (most recent call last)",
      "\u001b[36mCell\u001b[39m\u001b[36m \u001b[39m\u001b[32mIn[5]\u001b[39m\u001b[32m, line 2\u001b[39m\n\u001b[32m      1\u001b[39m \u001b[38;5;66;03m# get all the even numbers from a list of numbers\u001b[39;00m\n\u001b[32m----> \u001b[39m\u001b[32m2\u001b[39m arr = \u001b[43mnp\u001b[49m\u001b[43m.\u001b[49m\u001b[43marange\u001b[49m(\u001b[32m1\u001b[39m, \u001b[32m20\u001b[39m)\n\u001b[32m      3\u001b[39m \u001b[38;5;28mprint\u001b[39m(arr)\n\u001b[32m      4\u001b[39m arr = np.arange(\u001b[32m1\u001b[39m,\u001b[32m20\u001b[39m)\n",
      "\u001b[31mAttributeError\u001b[39m: module 'numpy' has no attribute 'arange'"
     ]
    }
   ],
   "source": [
    "# get all the even numbers from a list of numbers\n",
    "arr = np.arange(1, 20)\n",
    "print(arr)\n",
    "arr = np.arange(1,20)\n",
    "print(arr)\n",
    "mask = arr % 2 == 0\n",
    "print(\"Filtered evens: \", arr[mask])"
   ]
  }
 ],
 "metadata": {
  "kernelspec": {
   "display_name": "Python 3",
   "language": "python",
   "name": "python3"
  },
  "language_info": {
   "codemirror_mode": {
    "name": "ipython",
    "version": 3
   },
   "file_extension": ".py",
   "mimetype": "text/x-python",
   "name": "python",
   "nbconvert_exporter": "python",
   "pygments_lexer": "ipython3",
   "version": "3.12.6"
  }
 },
 "nbformat": 4,
 "nbformat_minor": 5
}

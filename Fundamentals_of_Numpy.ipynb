{
  "cells": [
    {
      "cell_type": "code",
      "execution_count": null,
      "id": "89f1ab17",
      "metadata": {
        "id": "89f1ab17"
      },
      "outputs": [],
      "source": [
        "import numpy as np\n"
      ]
    },
    {
      "cell_type": "code",
      "execution_count": null,
      "id": "5cfd1abd",
      "metadata": {
        "id": "5cfd1abd",
        "outputId": "43e08d9d-0287-4d7e-de2e-5ed573083587",
        "colab": {
          "base_uri": "https://localhost:8080/"
        }
      },
      "outputs": [
        {
          "output_type": "stream",
          "name": "stdout",
          "text": [
            "[1 2 3 4 5]\n",
            "Honesto\n"
          ]
        }
      ],
      "source": [
        "arr1 = np.array([1,2,3,4,5])\n",
        "print(arr1)\n",
        "print('Honesto')\n"
      ]
    },
    {
      "cell_type": "code",
      "execution_count": null,
      "id": "b9b87d4e",
      "metadata": {
        "id": "b9b87d4e",
        "outputId": "0221ed15-86e8-447d-89c8-1ddcada51d2a",
        "colab": {
          "base_uri": "https://localhost:8080/"
        }
      },
      "outputs": [
        {
          "output_type": "stream",
          "name": "stdout",
          "text": [
            "[[1, 2, 3, 4, 5], [6, 7, 8, 9, 0]] <class 'list'>\n",
            "[[1 2 3 4 5]\n",
            " [6 7 8 9 0]] <class 'numpy.ndarray'>\n"
          ]
        }
      ],
      "source": [
        "arr1 = [[1,2,3,4,5], [6,7,8,9,0]]\n",
        "print(arr1, type(arr1))\n",
        "arr2 = np.array([[1,2,3,4,5], [6,7,8,9,0]])\n",
        "print(arr2, type(arr2))"
      ]
    },
    {
      "cell_type": "markdown",
      "id": "c694e25f",
      "metadata": {
        "id": "c694e25f"
      },
      "source": [
        "# Array Attributes\n",
        "## Array Attributes\n",
        "### Array Attributes\n",
        "#### Array Attributes\n",
        "##### Array Attributes\n",
        "###### Array Attributes\n",
        "- These are array attributes"
      ]
    },
    {
      "cell_type": "markdown",
      "id": "7d1bc7df",
      "metadata": {
        "id": "7d1bc7df"
      },
      "source": [
        "### ndim"
      ]
    },
    {
      "cell_type": "code",
      "execution_count": null,
      "id": "a264db0b",
      "metadata": {
        "id": "a264db0b",
        "outputId": "410b075a-612b-4a43-d6a4-87aa427bf9f7",
        "colab": {
          "base_uri": "https://localhost:8080/"
        }
      },
      "outputs": [
        {
          "output_type": "stream",
          "name": "stdout",
          "text": [
            "1\n",
            "2\n"
          ]
        }
      ],
      "source": [
        "# Dimensions of an array\n",
        "arr1 = np.array([1,2,3,4,5])\n",
        "print(arr1.ndim)    # 1\n",
        "arr2 = np.array([[1,2,3,4,5], [6,7,8,9,0]])\n",
        "print(arr2.ndim)    # 2"
      ]
    },
    {
      "cell_type": "markdown",
      "id": "9625b0b0",
      "metadata": {
        "id": "9625b0b0"
      },
      "source": [
        "### shape: (row, columns)"
      ]
    },
    {
      "cell_type": "code",
      "execution_count": null,
      "id": "ae0e4d87",
      "metadata": {
        "id": "ae0e4d87",
        "outputId": "7fbab55e-20a4-4966-c6dd-6b677891bdf7",
        "colab": {
          "base_uri": "https://localhost:8080/"
        }
      },
      "outputs": [
        {
          "output_type": "stream",
          "name": "stdout",
          "text": [
            "(5,)\n",
            "(2, 5)\n"
          ]
        }
      ],
      "source": [
        "# If it's a 1D array, it returns number of items\n",
        "print(arr1.shape)\n",
        "# 2D array: returns number of row and columns\n",
        "print(arr2.shape)\n"
      ]
    },
    {
      "cell_type": "markdown",
      "id": "22531418",
      "metadata": {
        "id": "22531418"
      },
      "source": [
        "### size\n",
        "- Total number of elements in the array"
      ]
    },
    {
      "cell_type": "code",
      "execution_count": null,
      "id": "3a4e30f7",
      "metadata": {
        "id": "3a4e30f7",
        "outputId": "d0c30892-7522-4d83-f12a-f06d85666214",
        "colab": {
          "base_uri": "https://localhost:8080/"
        }
      },
      "outputs": [
        {
          "output_type": "stream",
          "name": "stdout",
          "text": [
            "5\n",
            "10\n"
          ]
        }
      ],
      "source": [
        "print(arr1.size)\n",
        "print(arr2.size)"
      ]
    },
    {
      "cell_type": "markdown",
      "id": "2ef6c275",
      "metadata": {
        "id": "2ef6c275"
      },
      "source": [
        "### dtype\n",
        "- returns the Data type of the array\n",
        "- arrays can hold the value sof a single data type only - Homogenuous"
      ]
    },
    {
      "cell_type": "code",
      "execution_count": null,
      "id": "1fb8054b",
      "metadata": {
        "id": "1fb8054b",
        "outputId": "466b4a65-a643-48bb-8163-dd7c78f2a0b2",
        "colab": {
          "base_uri": "https://localhost:8080/"
        }
      },
      "outputs": [
        {
          "output_type": "execute_result",
          "data": {
            "text/plain": [
              "dtype('int64')"
            ]
          },
          "metadata": {},
          "execution_count": 7
        }
      ],
      "source": [
        "arr1.dtype"
      ]
    },
    {
      "cell_type": "markdown",
      "id": "4ecc9a51",
      "metadata": {
        "id": "4ecc9a51"
      },
      "source": [
        "### itemsize\n",
        "- size of each element of the array in Bytes"
      ]
    },
    {
      "cell_type": "code",
      "execution_count": null,
      "id": "ab653275",
      "metadata": {
        "id": "ab653275",
        "outputId": "31001636-e27d-4607-817e-4e17d02cc77b",
        "colab": {
          "base_uri": "https://localhost:8080/"
        }
      },
      "outputs": [
        {
          "output_type": "stream",
          "name": "stdout",
          "text": [
            "8\n",
            "8\n",
            "float64\n",
            "8\n"
          ]
        }
      ],
      "source": [
        "print(arr1.itemsize)\n",
        "print(arr2.itemsize)\n",
        "arr3 = np.array([1.5, 2.3])\n",
        "print(arr3.dtype)\n",
        "print(arr3.itemsize)\n"
      ]
    },
    {
      "cell_type": "markdown",
      "id": "7e6ffc3e",
      "metadata": {
        "id": "7e6ffc3e"
      },
      "source": [
        "## Data Type Conversion\n",
        "- Although Numpy automatically infers the data type of array elements but we can specify overwriting the infered data type\n",
        "\n",
        "\n",
        "### Method 1: dtype parameter"
      ]
    },
    {
      "cell_type": "code",
      "execution_count": null,
      "id": "b50719d3",
      "metadata": {
        "id": "b50719d3",
        "outputId": "3cced147-30f3-4e75-abbf-8c6e4b8687d8",
        "colab": {
          "base_uri": "https://localhost:8080/"
        }
      },
      "outputs": [
        {
          "output_type": "stream",
          "name": "stdout",
          "text": [
            "float16\n"
          ]
        }
      ],
      "source": [
        "arr = np.array([1.2, 2.2, 3.4, 5.6], dtype=np.float16)\n",
        "print(arr.dtype)"
      ]
    },
    {
      "cell_type": "markdown",
      "id": "64324620",
      "metadata": {
        "id": "64324620"
      },
      "source": [
        "### Method 2: astype()"
      ]
    },
    {
      "cell_type": "code",
      "execution_count": null,
      "id": "5ad53380",
      "metadata": {
        "id": "5ad53380",
        "outputId": "a0c40298-c8f3-4477-d79b-015f6a9c247c",
        "colab": {
          "base_uri": "https://localhost:8080/"
        }
      },
      "outputs": [
        {
          "output_type": "stream",
          "name": "stdout",
          "text": [
            "[1 2 3 5]\n",
            "[1. 2. 3. 5.]\n"
          ]
        }
      ],
      "source": [
        "arr = np.array([1.2, 2.2, 3.4, 5.6])\n",
        "arr = arr.astype(int)\n",
        "print(arr)\n",
        "arr = arr.astype(float)\n",
        "print(arr)"
      ]
    },
    {
      "cell_type": "markdown",
      "id": "6cd386e3",
      "metadata": {
        "id": "6cd386e3"
      },
      "source": [
        "### returns a list of variables and functions in a module/library/package"
      ]
    },
    {
      "cell_type": "code",
      "execution_count": null,
      "id": "7891f177",
      "metadata": {
        "id": "7891f177",
        "outputId": "db6c0783-c1cf-4add-92bc-7196592018f6",
        "colab": {
          "base_uri": "https://localhost:8080/"
        }
      },
      "outputs": [
        {
          "output_type": "execute_result",
          "data": {
            "text/plain": [
              "['False_',\n",
              " 'ScalarType',\n",
              " 'True_',\n",
              " '_CopyMode',\n",
              " '_NoValue',\n",
              " '__NUMPY_SETUP__',\n",
              " '__all__',\n",
              " '__array_api_version__',\n",
              " '__builtins__',\n",
              " '__cached__',\n",
              " '__config__',\n",
              " '__dir__',\n",
              " '__doc__',\n",
              " '__expired_attributes__',\n",
              " '__file__',\n",
              " '__former_attrs__',\n",
              " '__future_scalars__',\n",
              " '__getattr__',\n",
              " '__loader__',\n",
              " '__name__',\n",
              " '__numpy_submodules__',\n",
              " '__package__',\n",
              " '__path__',\n",
              " '__spec__',\n",
              " '__version__',\n",
              " '_core',\n",
              " '_distributor_init',\n",
              " '_expired_attrs_2_0',\n",
              " '_get_promotion_state',\n",
              " '_globals',\n",
              " '_int_extended_msg',\n",
              " '_mat',\n",
              " '_msg',\n",
              " '_no_nep50_warning',\n",
              " '_pyinstaller_hooks_dir',\n",
              " '_pytesttester',\n",
              " '_set_promotion_state',\n",
              " '_specific_msg',\n",
              " '_type_info',\n",
              " '_typing',\n",
              " '_utils',\n",
              " 'abs',\n",
              " 'absolute',\n",
              " 'acos',\n",
              " 'acosh',\n",
              " 'add',\n",
              " 'all',\n",
              " 'allclose',\n",
              " 'amax',\n",
              " 'amin',\n",
              " 'angle',\n",
              " 'any',\n",
              " 'append',\n",
              " 'apply_along_axis',\n",
              " 'apply_over_axes',\n",
              " 'arange',\n",
              " 'arccos',\n",
              " 'arccosh',\n",
              " 'arcsin',\n",
              " 'arcsinh',\n",
              " 'arctan',\n",
              " 'arctan2',\n",
              " 'arctanh',\n",
              " 'argmax',\n",
              " 'argmin',\n",
              " 'argpartition',\n",
              " 'argsort',\n",
              " 'argwhere',\n",
              " 'around',\n",
              " 'array',\n",
              " 'array2string',\n",
              " 'array_equal',\n",
              " 'array_equiv',\n",
              " 'array_repr',\n",
              " 'array_split',\n",
              " 'array_str',\n",
              " 'asanyarray',\n",
              " 'asarray',\n",
              " 'asarray_chkfinite',\n",
              " 'ascontiguousarray',\n",
              " 'asfortranarray',\n",
              " 'asin',\n",
              " 'asinh',\n",
              " 'asmatrix',\n",
              " 'astype',\n",
              " 'atan',\n",
              " 'atan2',\n",
              " 'atanh',\n",
              " 'atleast_1d',\n",
              " 'atleast_2d',\n",
              " 'atleast_3d',\n",
              " 'average',\n",
              " 'bartlett',\n",
              " 'base_repr',\n",
              " 'binary_repr',\n",
              " 'bincount',\n",
              " 'bitwise_and',\n",
              " 'bitwise_count',\n",
              " 'bitwise_invert',\n",
              " 'bitwise_left_shift',\n",
              " 'bitwise_not',\n",
              " 'bitwise_or',\n",
              " 'bitwise_right_shift',\n",
              " 'bitwise_xor',\n",
              " 'blackman',\n",
              " 'block',\n",
              " 'bmat',\n",
              " 'bool',\n",
              " 'bool_',\n",
              " 'broadcast',\n",
              " 'broadcast_arrays',\n",
              " 'broadcast_shapes',\n",
              " 'broadcast_to',\n",
              " 'busday_count',\n",
              " 'busday_offset',\n",
              " 'busdaycalendar',\n",
              " 'byte',\n",
              " 'bytes_',\n",
              " 'c_',\n",
              " 'can_cast',\n",
              " 'cbrt',\n",
              " 'cdouble',\n",
              " 'ceil',\n",
              " 'char',\n",
              " 'character',\n",
              " 'choose',\n",
              " 'clip',\n",
              " 'clongdouble',\n",
              " 'column_stack',\n",
              " 'common_type',\n",
              " 'complex128',\n",
              " 'complex256',\n",
              " 'complex64',\n",
              " 'complexfloating',\n",
              " 'compress',\n",
              " 'concat',\n",
              " 'concatenate',\n",
              " 'conj',\n",
              " 'conjugate',\n",
              " 'convolve',\n",
              " 'copy',\n",
              " 'copysign',\n",
              " 'copyto',\n",
              " 'core',\n",
              " 'corrcoef',\n",
              " 'correlate',\n",
              " 'cos',\n",
              " 'cosh',\n",
              " 'count_nonzero',\n",
              " 'cov',\n",
              " 'cross',\n",
              " 'csingle',\n",
              " 'ctypeslib',\n",
              " 'cumprod',\n",
              " 'cumsum',\n",
              " 'datetime64',\n",
              " 'datetime_as_string',\n",
              " 'datetime_data',\n",
              " 'deg2rad',\n",
              " 'degrees',\n",
              " 'delete',\n",
              " 'diag',\n",
              " 'diag_indices',\n",
              " 'diag_indices_from',\n",
              " 'diagflat',\n",
              " 'diagonal',\n",
              " 'diff',\n",
              " 'digitize',\n",
              " 'divide',\n",
              " 'divmod',\n",
              " 'dot',\n",
              " 'double',\n",
              " 'dsplit',\n",
              " 'dstack',\n",
              " 'dtype',\n",
              " 'dtypes',\n",
              " 'e',\n",
              " 'ediff1d',\n",
              " 'einsum',\n",
              " 'einsum_path',\n",
              " 'emath',\n",
              " 'empty',\n",
              " 'empty_like',\n",
              " 'equal',\n",
              " 'errstate',\n",
              " 'euler_gamma',\n",
              " 'exceptions',\n",
              " 'exp',\n",
              " 'exp2',\n",
              " 'expand_dims',\n",
              " 'expm1',\n",
              " 'extract',\n",
              " 'eye',\n",
              " 'f2py',\n",
              " 'fabs',\n",
              " 'fft',\n",
              " 'fill_diagonal',\n",
              " 'finfo',\n",
              " 'fix',\n",
              " 'flatiter',\n",
              " 'flatnonzero',\n",
              " 'flexible',\n",
              " 'flip',\n",
              " 'fliplr',\n",
              " 'flipud',\n",
              " 'float128',\n",
              " 'float16',\n",
              " 'float32',\n",
              " 'float64',\n",
              " 'float_power',\n",
              " 'floating',\n",
              " 'floor',\n",
              " 'floor_divide',\n",
              " 'fmax',\n",
              " 'fmin',\n",
              " 'fmod',\n",
              " 'format_float_positional',\n",
              " 'format_float_scientific',\n",
              " 'frexp',\n",
              " 'from_dlpack',\n",
              " 'frombuffer',\n",
              " 'fromfile',\n",
              " 'fromfunction',\n",
              " 'fromiter',\n",
              " 'frompyfunc',\n",
              " 'fromregex',\n",
              " 'fromstring',\n",
              " 'full',\n",
              " 'full_like',\n",
              " 'gcd',\n",
              " 'generic',\n",
              " 'genfromtxt',\n",
              " 'geomspace',\n",
              " 'get_include',\n",
              " 'get_printoptions',\n",
              " 'getbufsize',\n",
              " 'geterr',\n",
              " 'geterrcall',\n",
              " 'gradient',\n",
              " 'greater',\n",
              " 'greater_equal',\n",
              " 'half',\n",
              " 'hamming',\n",
              " 'hanning',\n",
              " 'heaviside',\n",
              " 'histogram',\n",
              " 'histogram2d',\n",
              " 'histogram_bin_edges',\n",
              " 'histogramdd',\n",
              " 'hsplit',\n",
              " 'hstack',\n",
              " 'hypot',\n",
              " 'i0',\n",
              " 'identity',\n",
              " 'iinfo',\n",
              " 'imag',\n",
              " 'in1d',\n",
              " 'index_exp',\n",
              " 'indices',\n",
              " 'inexact',\n",
              " 'inf',\n",
              " 'info',\n",
              " 'inner',\n",
              " 'insert',\n",
              " 'int16',\n",
              " 'int32',\n",
              " 'int64',\n",
              " 'int8',\n",
              " 'int_',\n",
              " 'intc',\n",
              " 'integer',\n",
              " 'interp',\n",
              " 'intersect1d',\n",
              " 'intp',\n",
              " 'invert',\n",
              " 'is_busday',\n",
              " 'isclose',\n",
              " 'iscomplex',\n",
              " 'iscomplexobj',\n",
              " 'isdtype',\n",
              " 'isfinite',\n",
              " 'isfortran',\n",
              " 'isin',\n",
              " 'isinf',\n",
              " 'isnan',\n",
              " 'isnat',\n",
              " 'isneginf',\n",
              " 'isposinf',\n",
              " 'isreal',\n",
              " 'isrealobj',\n",
              " 'isscalar',\n",
              " 'issubdtype',\n",
              " 'iterable',\n",
              " 'ix_',\n",
              " 'kaiser',\n",
              " 'kron',\n",
              " 'lcm',\n",
              " 'ldexp',\n",
              " 'left_shift',\n",
              " 'less',\n",
              " 'less_equal',\n",
              " 'lexsort',\n",
              " 'lib',\n",
              " 'linalg',\n",
              " 'linspace',\n",
              " 'little_endian',\n",
              " 'load',\n",
              " 'loadtxt',\n",
              " 'log',\n",
              " 'log10',\n",
              " 'log1p',\n",
              " 'log2',\n",
              " 'logaddexp',\n",
              " 'logaddexp2',\n",
              " 'logical_and',\n",
              " 'logical_not',\n",
              " 'logical_or',\n",
              " 'logical_xor',\n",
              " 'logspace',\n",
              " 'long',\n",
              " 'longdouble',\n",
              " 'longlong',\n",
              " 'ma',\n",
              " 'mask_indices',\n",
              " 'matmul',\n",
              " 'matrix',\n",
              " 'matrix_transpose',\n",
              " 'max',\n",
              " 'maximum',\n",
              " 'may_share_memory',\n",
              " 'mean',\n",
              " 'median',\n",
              " 'memmap',\n",
              " 'meshgrid',\n",
              " 'mgrid',\n",
              " 'min',\n",
              " 'min_scalar_type',\n",
              " 'minimum',\n",
              " 'mintypecode',\n",
              " 'mod',\n",
              " 'modf',\n",
              " 'moveaxis',\n",
              " 'multiply',\n",
              " 'nan',\n",
              " 'nan_to_num',\n",
              " 'nanargmax',\n",
              " 'nanargmin',\n",
              " 'nancumprod',\n",
              " 'nancumsum',\n",
              " 'nanmax',\n",
              " 'nanmean',\n",
              " 'nanmedian',\n",
              " 'nanmin',\n",
              " 'nanpercentile',\n",
              " 'nanprod',\n",
              " 'nanquantile',\n",
              " 'nanstd',\n",
              " 'nansum',\n",
              " 'nanvar',\n",
              " 'ndarray',\n",
              " 'ndenumerate',\n",
              " 'ndim',\n",
              " 'ndindex',\n",
              " 'nditer',\n",
              " 'negative',\n",
              " 'nested_iters',\n",
              " 'newaxis',\n",
              " 'nextafter',\n",
              " 'nonzero',\n",
              " 'not_equal',\n",
              " 'number',\n",
              " 'object_',\n",
              " 'ogrid',\n",
              " 'ones',\n",
              " 'ones_like',\n",
              " 'outer',\n",
              " 'packbits',\n",
              " 'pad',\n",
              " 'partition',\n",
              " 'percentile',\n",
              " 'permute_dims',\n",
              " 'pi',\n",
              " 'piecewise',\n",
              " 'place',\n",
              " 'poly',\n",
              " 'poly1d',\n",
              " 'polyadd',\n",
              " 'polyder',\n",
              " 'polydiv',\n",
              " 'polyfit',\n",
              " 'polyint',\n",
              " 'polymul',\n",
              " 'polynomial',\n",
              " 'polysub',\n",
              " 'polyval',\n",
              " 'positive',\n",
              " 'pow',\n",
              " 'power',\n",
              " 'printoptions',\n",
              " 'prod',\n",
              " 'promote_types',\n",
              " 'ptp',\n",
              " 'put',\n",
              " 'put_along_axis',\n",
              " 'putmask',\n",
              " 'quantile',\n",
              " 'r_',\n",
              " 'rad2deg',\n",
              " 'radians',\n",
              " 'random',\n",
              " 'ravel',\n",
              " 'ravel_multi_index',\n",
              " 'real',\n",
              " 'real_if_close',\n",
              " 'rec',\n",
              " 'recarray',\n",
              " 'reciprocal',\n",
              " 'record',\n",
              " 'remainder',\n",
              " 'repeat',\n",
              " 'require',\n",
              " 'reshape',\n",
              " 'resize',\n",
              " 'result_type',\n",
              " 'right_shift',\n",
              " 'rint',\n",
              " 'roll',\n",
              " 'rollaxis',\n",
              " 'roots',\n",
              " 'rot90',\n",
              " 'round',\n",
              " 'row_stack',\n",
              " 's_',\n",
              " 'save',\n",
              " 'savetxt',\n",
              " 'savez',\n",
              " 'savez_compressed',\n",
              " 'sctypeDict',\n",
              " 'searchsorted',\n",
              " 'select',\n",
              " 'set_printoptions',\n",
              " 'setbufsize',\n",
              " 'setdiff1d',\n",
              " 'seterr',\n",
              " 'seterrcall',\n",
              " 'setxor1d',\n",
              " 'shape',\n",
              " 'shares_memory',\n",
              " 'short',\n",
              " 'show_config',\n",
              " 'show_runtime',\n",
              " 'sign',\n",
              " 'signbit',\n",
              " 'signedinteger',\n",
              " 'sin',\n",
              " 'sinc',\n",
              " 'single',\n",
              " 'sinh',\n",
              " 'size',\n",
              " 'sort',\n",
              " 'sort_complex',\n",
              " 'spacing',\n",
              " 'split',\n",
              " 'sqrt',\n",
              " 'square',\n",
              " 'squeeze',\n",
              " 'stack',\n",
              " 'std',\n",
              " 'str_',\n",
              " 'strings',\n",
              " 'subtract',\n",
              " 'sum',\n",
              " 'swapaxes',\n",
              " 'take',\n",
              " 'take_along_axis',\n",
              " 'tan',\n",
              " 'tanh',\n",
              " 'tensordot',\n",
              " 'test',\n",
              " 'testing',\n",
              " 'tile',\n",
              " 'timedelta64',\n",
              " 'trace',\n",
              " 'transpose',\n",
              " 'trapezoid',\n",
              " 'trapz',\n",
              " 'tri',\n",
              " 'tril',\n",
              " 'tril_indices',\n",
              " 'tril_indices_from',\n",
              " 'trim_zeros',\n",
              " 'triu',\n",
              " 'triu_indices',\n",
              " 'triu_indices_from',\n",
              " 'true_divide',\n",
              " 'trunc',\n",
              " 'typecodes',\n",
              " 'typename',\n",
              " 'typing',\n",
              " 'ubyte',\n",
              " 'ufunc',\n",
              " 'uint',\n",
              " 'uint16',\n",
              " 'uint32',\n",
              " 'uint64',\n",
              " 'uint8',\n",
              " 'uintc',\n",
              " 'uintp',\n",
              " 'ulong',\n",
              " 'ulonglong',\n",
              " 'union1d',\n",
              " 'unique',\n",
              " 'unique_all',\n",
              " 'unique_counts',\n",
              " 'unique_inverse',\n",
              " 'unique_values',\n",
              " 'unpackbits',\n",
              " 'unravel_index',\n",
              " 'unsignedinteger',\n",
              " 'unwrap',\n",
              " 'ushort',\n",
              " 'vander',\n",
              " 'var',\n",
              " 'vdot',\n",
              " 'vecdot',\n",
              " 'vectorize',\n",
              " 'void',\n",
              " 'vsplit',\n",
              " 'vstack',\n",
              " 'where',\n",
              " 'zeros',\n",
              " 'zeros_like']"
            ]
          },
          "metadata": {},
          "execution_count": 11
        }
      ],
      "source": [
        "dir(np)"
      ]
    },
    {
      "cell_type": "code",
      "execution_count": null,
      "id": "91d01a05",
      "metadata": {
        "id": "91d01a05",
        "outputId": "c5fb2ec3-683f-4faa-c886-e353688ddfe2",
        "colab": {
          "base_uri": "https://localhost:8080/"
        }
      },
      "outputs": [
        {
          "output_type": "execute_result",
          "data": {
            "text/plain": [
              "['__doc__',\n",
              " '__loader__',\n",
              " '__name__',\n",
              " '__package__',\n",
              " '__spec__',\n",
              " 'acos',\n",
              " 'acosh',\n",
              " 'asin',\n",
              " 'asinh',\n",
              " 'atan',\n",
              " 'atan2',\n",
              " 'atanh',\n",
              " 'cbrt',\n",
              " 'ceil',\n",
              " 'comb',\n",
              " 'copysign',\n",
              " 'cos',\n",
              " 'cosh',\n",
              " 'degrees',\n",
              " 'dist',\n",
              " 'e',\n",
              " 'erf',\n",
              " 'erfc',\n",
              " 'exp',\n",
              " 'exp2',\n",
              " 'expm1',\n",
              " 'fabs',\n",
              " 'factorial',\n",
              " 'floor',\n",
              " 'fmod',\n",
              " 'frexp',\n",
              " 'fsum',\n",
              " 'gamma',\n",
              " 'gcd',\n",
              " 'hypot',\n",
              " 'inf',\n",
              " 'isclose',\n",
              " 'isfinite',\n",
              " 'isinf',\n",
              " 'isnan',\n",
              " 'isqrt',\n",
              " 'lcm',\n",
              " 'ldexp',\n",
              " 'lgamma',\n",
              " 'log',\n",
              " 'log10',\n",
              " 'log1p',\n",
              " 'log2',\n",
              " 'modf',\n",
              " 'nan',\n",
              " 'nextafter',\n",
              " 'perm',\n",
              " 'pi',\n",
              " 'pow',\n",
              " 'prod',\n",
              " 'radians',\n",
              " 'remainder',\n",
              " 'sin',\n",
              " 'sinh',\n",
              " 'sqrt',\n",
              " 'sumprod',\n",
              " 'tan',\n",
              " 'tanh',\n",
              " 'tau',\n",
              " 'trunc',\n",
              " 'ulp']"
            ]
          },
          "metadata": {},
          "execution_count": 12
        }
      ],
      "source": [
        "import math\n",
        "dir(math)"
      ]
    },
    {
      "cell_type": "markdown",
      "id": "5b5695a0",
      "metadata": {
        "id": "5b5695a0"
      },
      "source": [
        "#### Check Numpy Version"
      ]
    },
    {
      "cell_type": "code",
      "execution_count": null,
      "id": "d772177e",
      "metadata": {
        "id": "d772177e",
        "outputId": "3046905b-271c-4398-e042-2d39831bb594",
        "colab": {
          "base_uri": "https://localhost:8080/",
          "height": 35
        }
      },
      "outputs": [
        {
          "output_type": "execute_result",
          "data": {
            "text/plain": [
              "'2.0.2'"
            ],
            "application/vnd.google.colaboratory.intrinsic+json": {
              "type": "string"
            }
          },
          "metadata": {},
          "execution_count": 13
        }
      ],
      "source": [
        "np.__version__"
      ]
    },
    {
      "cell_type": "markdown",
      "id": "e0d25557",
      "metadata": {
        "id": "e0d25557"
      },
      "source": [
        "## Creating and Initializing Arrays"
      ]
    },
    {
      "cell_type": "markdown",
      "id": "3e4984a8",
      "metadata": {
        "id": "3e4984a8"
      },
      "source": [
        "### Creating arrays with built-in functions\n",
        "#### Zeros | Ones | Full | Empty"
      ]
    },
    {
      "cell_type": "code",
      "execution_count": null,
      "id": "1b1f83ff",
      "metadata": {
        "id": "1b1f83ff",
        "outputId": "ce35c8c9-adb0-4294-b3e7-c36baaee15ed",
        "colab": {
          "base_uri": "https://localhost:8080/"
        }
      },
      "outputs": [
        {
          "output_type": "stream",
          "name": "stdout",
          "text": [
            "Zeros:\n",
            " [[0. 0. 0. 0.]\n",
            " [0. 0. 0. 0.]\n",
            " [0. 0. 0. 0.]]\n",
            "Ones:\n",
            " [[1. 1. 1. 1.]\n",
            " [1. 1. 1. 1.]\n",
            " [1. 1. 1. 1.]]\n",
            "full:\n",
            " [[5 5 5 5]\n",
            " [5 5 5 5]\n",
            " [5 5 5 5]]\n",
            "empty:\n",
            " [[1. 1. 1. 1.]\n",
            " [1. 1. 1. 1.]\n",
            " [1. 1. 1. 1.]]\n"
          ]
        }
      ],
      "source": [
        "zeros_arr = np.zeros((3,4))\n",
        "print(\"Zeros:\\n\", zeros_arr)\n",
        "\n",
        "\n",
        "ones_arr = np.ones((3,4))\n",
        "print(\"Ones:\\n\", ones_arr)\n",
        "\n",
        "\n",
        "full_arr = np.full((3,4), 5)\n",
        "print(\"full:\\n\", full_arr)\n",
        "\n",
        "\n",
        "empty_arr = np.empty((3,4))\n",
        "print(\"empty:\\n\", empty_arr)"
      ]
    },
    {
      "cell_type": "markdown",
      "id": "7b008098",
      "metadata": {
        "id": "7b008098"
      },
      "source": [
        "## Numerrical Sequences"
      ]
    },
    {
      "cell_type": "markdown",
      "id": "f871a63a",
      "metadata": {
        "id": "f871a63a"
      },
      "source": [
        "### arange(start, end, step)"
      ]
    },
    {
      "cell_type": "code",
      "execution_count": null,
      "id": "1514dcbf",
      "metadata": {
        "id": "1514dcbf",
        "outputId": "d4d7a5e9-b4c4-4b0f-81dc-186ad2b8db99",
        "colab": {
          "base_uri": "https://localhost:8080/"
        }
      },
      "outputs": [
        {
          "output_type": "execute_result",
          "data": {
            "text/plain": [
              "array([0, 2, 4, 6, 8])"
            ]
          },
          "metadata": {},
          "execution_count": 15
        }
      ],
      "source": [
        "np.arange(0, 10, 2)"
      ]
    },
    {
      "cell_type": "markdown",
      "id": "cfab6708",
      "metadata": {
        "id": "cfab6708"
      },
      "source": [
        "### linspace()"
      ]
    },
    {
      "cell_type": "code",
      "execution_count": null,
      "id": "5ec4a259",
      "metadata": {
        "id": "5ec4a259",
        "outputId": "6ae524c2-690a-4b2e-c286-8c14c7975d09",
        "colab": {
          "base_uri": "https://localhost:8080/"
        }
      },
      "outputs": [
        {
          "output_type": "execute_result",
          "data": {
            "text/plain": [
              "array([0.  , 0.25, 0.5 , 0.75, 1.  ])"
            ]
          },
          "metadata": {},
          "execution_count": 16
        }
      ],
      "source": [
        "np.linspace(0, 1, 5)"
      ]
    },
    {
      "cell_type": "markdown",
      "id": "1de7ef6a",
      "metadata": {
        "id": "1de7ef6a"
      },
      "source": [
        "### Identical Matrix"
      ]
    },
    {
      "cell_type": "code",
      "execution_count": null,
      "id": "bf7cb2d6",
      "metadata": {
        "id": "bf7cb2d6",
        "outputId": "9d41586d-9a69-40c4-b303-b4ddf354297b",
        "colab": {
          "base_uri": "https://localhost:8080/"
        }
      },
      "outputs": [
        {
          "output_type": "execute_result",
          "data": {
            "text/plain": [
              "array([[1., 0., 0., 0.],\n",
              "       [0., 1., 0., 0.],\n",
              "       [0., 0., 1., 0.],\n",
              "       [0., 0., 0., 1.]])"
            ]
          },
          "metadata": {},
          "execution_count": 17
        }
      ],
      "source": [
        "np.eye(4)"
      ]
    },
    {
      "cell_type": "code",
      "execution_count": null,
      "id": "548a2ce8",
      "metadata": {
        "id": "548a2ce8",
        "outputId": "41c6b47c-5e08-4577-acc7-917274e549e6",
        "colab": {
          "base_uri": "https://localhost:8080/"
        }
      },
      "outputs": [
        {
          "output_type": "execute_result",
          "data": {
            "text/plain": [
              "array([[5., 0., 0., 0.],\n",
              "       [0., 5., 0., 0.],\n",
              "       [0., 0., 5., 0.],\n",
              "       [0., 0., 0., 5.]])"
            ]
          },
          "metadata": {},
          "execution_count": 18
        }
      ],
      "source": [
        "np.eye(4) * 5"
      ]
    },
    {
      "cell_type": "code",
      "execution_count": null,
      "id": "e803a021",
      "metadata": {
        "id": "e803a021",
        "outputId": "ecb6733d-a20f-4d1b-f9c6-f26e0a30ce4e",
        "colab": {
          "base_uri": "https://localhost:8080/"
        }
      },
      "outputs": [
        {
          "output_type": "stream",
          "name": "stdout",
          "text": [
            "[[1, 0, 0, 0], [0, 1, 0, 0], [0, 0, 1, 0], [0, 0, 0, 1], [1, 0, 0, 0], [0, 1, 0, 0], [0, 0, 1, 0], [0, 0, 0, 1], [1, 0, 0, 0], [0, 1, 0, 0], [0, 0, 1, 0], [0, 0, 0, 1]]\n"
          ]
        }
      ],
      "source": [
        "arr = [[1, 0, 0, 0],\n",
        "       [0, 1, 0, 0],\n",
        "       [0, 0, 1, 0],\n",
        "       [0, 0, 0, 1]]\n",
        "\n",
        "print(arr * 3)"
      ]
    },
    {
      "cell_type": "markdown",
      "id": "92b298e7",
      "metadata": {
        "id": "92b298e7"
      },
      "source": [
        "## Numpy Array with arithmetic Operators"
      ]
    },
    {
      "cell_type": "code",
      "execution_count": null,
      "id": "e388f5c3",
      "metadata": {
        "id": "e388f5c3",
        "outputId": "cfb26dbf-09c4-4fca-f4a9-356cef3dba35",
        "colab": {
          "base_uri": "https://localhost:8080/"
        }
      },
      "outputs": [
        {
          "output_type": "stream",
          "name": "stdout",
          "text": [
            "Numpy Array Addition:\n",
            "[4 5 6 7 8]\n",
            "\n",
            "Numpy Array Subtraction:\n",
            "[-2 -1  0  1  2]\n",
            "\n",
            "Numpy Array Multiplication:\n",
            "[ 3  6  9 12 15]\n",
            "\n",
            "Numpy Array Divide:\n",
            "[0.33333333 0.66666667 1.         1.33333333 1.66666667]\n",
            "\n",
            "Python list Addition:\n",
            "[1, 2, 3, 4, 5, 3]\n",
            "\n",
            "Python list Multiplication:\n",
            "[1, 2, 3, 4, 5, 1, 2, 3, 4, 5, 1, 2, 3, 4, 5]\n"
          ]
        }
      ],
      "source": [
        "arr = np.array([1,2,3,4,5])\n",
        "print('Numpy Array Addition:')\n",
        "print(arr + 3)\n",
        "print('\\nNumpy Array Subtraction:')\n",
        "print(arr - 3)\n",
        "print('\\nNumpy Array Multiplication:')\n",
        "print(arr * 3)\n",
        "print('\\nNumpy Array Divide:')\n",
        "print(arr / 3)\n",
        "\n",
        "lst = [1,2,3,4,5]\n",
        "print('\\nPython list Addition:')\n",
        "print(lst + [3])\n",
        "# only a list can be added with another list - not with any integer.\n",
        "\n",
        "# print('\\nPython list Subtraction:')   # not feasible\n",
        "# print(lst - 3)\n",
        "print('\\nPython list Multiplication:')\n",
        "print(lst * 3)\n",
        "# print('\\nPython list Division:')      # not feasible\n",
        "# print(lst / 3)"
      ]
    },
    {
      "cell_type": "markdown",
      "id": "4dffe904",
      "metadata": {
        "id": "4dffe904"
      },
      "source": [
        "### Diagonal"
      ]
    },
    {
      "cell_type": "code",
      "execution_count": null,
      "id": "79c6b307",
      "metadata": {
        "id": "79c6b307",
        "outputId": "1d1620d5-3e15-47d9-d029-d3c0c07200bc",
        "colab": {
          "base_uri": "https://localhost:8080/"
        }
      },
      "outputs": [
        {
          "output_type": "execute_result",
          "data": {
            "text/plain": [
              "array([[10,  0,  0,  0,  0],\n",
              "       [ 0, 20,  0,  0,  0],\n",
              "       [ 0,  0, 30,  0,  0],\n",
              "       [ 0,  0,  0, 40,  0],\n",
              "       [ 0,  0,  0,  0, 50]])"
            ]
          },
          "metadata": {},
          "execution_count": 21
        }
      ],
      "source": [
        "np.diag([10, 20, 30, 40,50])"
      ]
    },
    {
      "cell_type": "markdown",
      "id": "e8b29dd5",
      "metadata": {
        "id": "e8b29dd5"
      },
      "source": [
        "## Random Array"
      ]
    },
    {
      "cell_type": "markdown",
      "id": "6b927abe",
      "metadata": {
        "id": "6b927abe"
      },
      "source": [
        "### seting up the Seed : seed()\n",
        "- This maintains the reproducibility"
      ]
    },
    {
      "cell_type": "code",
      "execution_count": null,
      "id": "6c503415",
      "metadata": {
        "id": "6c503415"
      },
      "outputs": [],
      "source": [
        "np.random.seed(42)\n"
      ]
    },
    {
      "cell_type": "code",
      "execution_count": null,
      "id": "e5d93ebf",
      "metadata": {
        "id": "e5d93ebf",
        "outputId": "dafb7f47-f532-4319-af66-ac944aed063b",
        "colab": {
          "base_uri": "https://localhost:8080/"
        }
      },
      "outputs": [
        {
          "output_type": "stream",
          "name": "stdout",
          "text": [
            "[[0.5488135  0.71518937]\n",
            " [0.60276338 0.54488318]]\n",
            "[[0.4236548  0.64589411 0.43758721]\n",
            " [0.891773   0.96366276 0.38344152]\n",
            " [0.79172504 0.52889492 0.56804456]]\n",
            "[[ 0.48431215  0.57914048]\n",
            " [-0.18158257  1.41020463]]\n",
            "[[-0.37447169  0.27519832 -0.96075461]\n",
            " [ 0.37692697  0.03343893  0.68056724]\n",
            " [-1.56349669 -0.56669762 -0.24214951]]\n"
          ]
        }
      ],
      "source": [
        "# Creating a matrix of random numbers between 0 and 1\n",
        "np.random.seed(0)\n",
        "print(np.random.rand(2, 2))\n",
        "print(np.random.rand(3, 3))\n",
        "\n",
        "# With Normal Distribution mean = 0 and std = 1\n",
        "print(np.random.randn(2, 2))\n",
        "print(np.random.randn(3, 3))"
      ]
    },
    {
      "cell_type": "code",
      "execution_count": null,
      "id": "13dae9ed",
      "metadata": {
        "id": "13dae9ed",
        "outputId": "010649eb-1625-483b-80fb-8e4704e801f7",
        "colab": {
          "base_uri": "https://localhost:8080/"
        }
      },
      "outputs": [
        {
          "output_type": "execute_result",
          "data": {
            "text/plain": [
              "array([[52, 93, 15, 72, 61],\n",
              "       [21, 83, 87, 75, 75],\n",
              "       [88, 24,  3, 22, 53]])"
            ]
          },
          "metadata": {},
          "execution_count": 24
        }
      ],
      "source": [
        "# create an array of random integers\n",
        "# np.random.randint(start, end, (row, column))\n",
        "np.random.seed(42)\n",
        "np.random.randint(1, 100, (3, 5))\n"
      ]
    },
    {
      "cell_type": "markdown",
      "id": "c7d1d7dd",
      "metadata": {
        "id": "c7d1d7dd"
      },
      "source": [
        "## Indexing and Slicing\n",
        "- Indexing: positioning of each element or item in a string/list/dictionary\n",
        "- Slicing: when we access multiple items at a time\n"
      ]
    },
    {
      "cell_type": "code",
      "execution_count": null,
      "id": "02fd67c9",
      "metadata": {
        "id": "02fd67c9",
        "outputId": "d86f8ae6-4dc1-4df3-fc6c-b27a0f0dc6b4",
        "colab": {
          "base_uri": "https://localhost:8080/"
        }
      },
      "outputs": [
        {
          "output_type": "stream",
          "name": "stdout",
          "text": [
            "[1, 2]\n",
            "6\n",
            "8\n"
          ]
        }
      ],
      "source": [
        "numbers = [1,2,3,4,5,6,7,8,9,0]\n",
        "        #  0 1 2 3 4 5 6 7 8 9\n",
        "print(numbers[:2])\n",
        "print(numbers[5])\n",
        "\n",
        "\n",
        "list2d = [[1,2,3], [4,5,6], [7,8,9]]\n",
        "# Python: 2dlist[row][column]\n",
        "print(list2d[2][1])"
      ]
    },
    {
      "cell_type": "code",
      "execution_count": null,
      "id": "1fdfc180",
      "metadata": {
        "id": "1fdfc180",
        "outputId": "22032eb9-a8cb-4c70-c02a-10a125614b2f",
        "colab": {
          "base_uri": "https://localhost:8080/"
        }
      },
      "outputs": [
        {
          "output_type": "stream",
          "name": "stdout",
          "text": [
            "[ 10  20  30  40  50  60  70  80  90 100]\n",
            "10\n",
            "100\n",
            "[[1 2 3]\n",
            " [4 5 6]\n",
            " [7 8 9]]\n",
            "8\n"
          ]
        }
      ],
      "source": [
        "arr = np.array(range(10, 101, 10))\n",
        "print(arr)\n",
        "print(arr[0])\n",
        "print(arr[-1])\n",
        "\n",
        "\n",
        "arr2d = np.array([[1,2,3], [4,5,6], [7,8,9]])\n",
        "print(arr2d)\n",
        "print(arr2d[2, 1])"
      ]
    },
    {
      "cell_type": "markdown",
      "id": "add0fbff",
      "metadata": {
        "id": "add0fbff"
      },
      "source": [
        "#### Slicing\n",
        "- Syntax: array[start: end: step]"
      ]
    },
    {
      "cell_type": "code",
      "execution_count": null,
      "id": "f5dc740d",
      "metadata": {
        "id": "f5dc740d",
        "outputId": "2c767b07-e03f-40c8-e0c7-a1d7cefae22e",
        "colab": {
          "base_uri": "https://localhost:8080/"
        }
      },
      "outputs": [
        {
          "output_type": "stream",
          "name": "stdout",
          "text": [
            "[20 30 40]\n",
            "[10 20 30]\n",
            "[10 30 50 70 90]\n"
          ]
        }
      ],
      "source": [
        "print(arr[1:4])\n",
        "print(arr[:3])\n",
        "print(arr[::2])   # [10, 30, 50, 70, 90]"
      ]
    },
    {
      "cell_type": "markdown",
      "id": "09124a5c",
      "metadata": {
        "id": "09124a5c"
      },
      "source": [
        "### Indexing\n",
        "- arr2d[row, column]\n",
        "\n",
        "### Slicing\n",
        "- arr2d[[start: end: step], [start:end:step]]"
      ]
    },
    {
      "cell_type": "code",
      "execution_count": null,
      "id": "12df4341",
      "metadata": {
        "id": "12df4341",
        "outputId": "2bd81ee6-5230-43bd-bf16-8479dedeed57",
        "colab": {
          "base_uri": "https://localhost:8080/"
        }
      },
      "outputs": [
        {
          "output_type": "stream",
          "name": "stdout",
          "text": [
            "[[1 2 3]\n",
            " [4 5 6]\n",
            " [7 8 9]]\n",
            "[[1 2]\n",
            " [4 5]]\n",
            "[[2 3]\n",
            " [5 6]]\n",
            "[[5 6]\n",
            " [8 9]]\n"
          ]
        }
      ],
      "source": [
        "print(arr2d)\n",
        "print(arr2d[0:2, 0:2])\n",
        "# [[1,2],\n",
        "#  [4,5]]\n",
        "\n",
        "\n",
        "print(arr2d[0:2, 1:3])\n",
        "# [[2 3]\n",
        "#  [5 6]]\n",
        "\n",
        "\n",
        "\n",
        "print(arr2d[1:3, 1:3])\n",
        "# [[5,6],\n",
        "#  [8,9]]"
      ]
    },
    {
      "cell_type": "code",
      "execution_count": null,
      "id": "9d61e683",
      "metadata": {
        "id": "9d61e683",
        "outputId": "a349a4e5-becb-4a19-fa57-0ec9a2bbd5c4",
        "colab": {
          "base_uri": "https://localhost:8080/"
        }
      },
      "outputs": [
        {
          "output_type": "stream",
          "name": "stdout",
          "text": [
            "[[202 303]\n",
            " [200 300]\n",
            " [222 333]]\n",
            "[[ 50]\n",
            " [505]\n",
            " [500]\n",
            " [555]\n",
            " [151]]\n",
            "[[ 10  20  30  40  50]\n",
            " [101 202 303 404 505]\n",
            " [100 200 300 400 500]\n",
            " [111 222 333 444 555]]\n",
            "[111 121 131 141 151]\n"
          ]
        }
      ],
      "source": [
        "arr2 = np.array([\n",
        "    [10, 20, 30, 40, 50],\n",
        "    [101, 202, 303, 404, 505],\n",
        "    [100, 200, 300, 400, 500],\n",
        "    [111, 222, 333, 444, 555],\n",
        "    [111, 121, 131, 141, 151]\n",
        "    ])\n",
        "\n",
        "print(arr2[1:4, 1:3])\n",
        "'''\n",
        "[[202 303]\n",
        " [200 300]\n",
        " [222 333]]\n",
        "'''\n",
        "\n",
        "# get all the records from last column\n",
        "print(arr2[:, 4:])\n",
        "\n",
        "\n",
        "# to get all the rows except the last row\n",
        "print(arr2[:-1])\n",
        "\n",
        "\n",
        "# to get the last row\n",
        "print(arr2[-1])"
      ]
    },
    {
      "cell_type": "markdown",
      "id": "e8faa1fc",
      "metadata": {
        "id": "e8faa1fc"
      },
      "source": [
        "## Boolean Indexing\n",
        "- selects the elements that satisfies a condition"
      ]
    },
    {
      "cell_type": "code",
      "execution_count": null,
      "id": "0e67dc25",
      "metadata": {
        "id": "0e67dc25",
        "outputId": "432e560a-60bd-4688-91e7-be5185965330",
        "colab": {
          "base_uri": "https://localhost:8080/"
        }
      },
      "outputs": [
        {
          "output_type": "stream",
          "name": "stdout",
          "text": [
            "[ 1  3  5  7  9 11 13 15 17 19]\n",
            "[False False False False False  True  True  True  True  True]\n",
            "Filtered values:  [11 13 15 17 19]\n"
          ]
        }
      ],
      "source": [
        "arr = np.arange(1, 20, 2)\n",
        "print(arr)\n",
        "mask = arr > 10\n",
        "print(mask)\n",
        "print(\"Filtered values: \", arr[mask])\n"
      ]
    },
    {
      "cell_type": "code",
      "execution_count": null,
      "id": "25e0864e",
      "metadata": {
        "id": "25e0864e",
        "outputId": "f9583e6c-32cc-4c9c-f006-6d1e3dca31c4",
        "colab": {
          "base_uri": "https://localhost:8080/"
        }
      },
      "outputs": [
        {
          "output_type": "stream",
          "name": "stdout",
          "text": [
            "[ 1  2  3  4  5  6  7  8  9 10 11 12 13 14 15 16 17 18 19]\n",
            "[ 1  2  3  4  5  6  7  8  9 10 11 12 13 14 15 16 17 18 19]\n",
            "Filtered evens:  [ 2  4  6  8 10 12 14 16 18]\n"
          ]
        }
      ],
      "source": [
        "# get all the even numbers from a list of numbers\n",
        "arr = np.arange(1, 20)\n",
        "print(arr)\n",
        "arr = np.arange(1,20)\n",
        "print(arr)\n",
        "mask = arr % 2 == 0\n",
        "print(\"Filtered evens: \", arr[mask])"
      ]
    },
    {
      "cell_type": "markdown",
      "source": [
        "#### Write a program to get all the numbers divisible by 3"
      ],
      "metadata": {
        "id": "vufdu0tHS6Ob"
      },
      "id": "vufdu0tHS6Ob"
    },
    {
      "cell_type": "code",
      "source": [],
      "metadata": {
        "id": "NlldvyuMUJrz"
      },
      "id": "NlldvyuMUJrz",
      "execution_count": null,
      "outputs": []
    },
    {
      "cell_type": "code",
      "source": [
        "arr = np.arange(20)\n",
        "mask = arr % 3 == 0\n",
        "print(\"NUmbers divisible by 3 are ...\", arr[mask])"
      ],
      "metadata": {
        "id": "O7KUcn2QTC_o",
        "colab": {
          "base_uri": "https://localhost:8080/"
        },
        "outputId": "49bc6f9c-5d2d-4bce-e3e1-178b5b40191f"
      },
      "id": "O7KUcn2QTC_o",
      "execution_count": 35,
      "outputs": [
        {
          "output_type": "stream",
          "name": "stdout",
          "text": [
            "NUmbers divisible by 3 are ... [ 0  3  6  9 12 15 18]\n"
          ]
        }
      ]
    }
  ],
  "metadata": {
    "kernelspec": {
      "display_name": "Python 3",
      "language": "python",
      "name": "python3"
    },
    "language_info": {
      "codemirror_mode": {
        "name": "ipython",
        "version": 3
      },
      "file_extension": ".py",
      "mimetype": "text/x-python",
      "name": "python",
      "nbconvert_exporter": "python",
      "pygments_lexer": "ipython3",
      "version": "3.11.13"
    },
    "colab": {
      "provenance": []
    }
  },
  "nbformat": 4,
  "nbformat_minor": 5
}